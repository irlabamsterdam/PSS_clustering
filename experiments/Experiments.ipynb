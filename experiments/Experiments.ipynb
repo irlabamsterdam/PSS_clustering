{
 "cells": [
  {
   "cell_type": "markdown",
   "id": "1cc18f75-b6d7-410b-b683-aebf318e5e04",
   "metadata": {},
   "source": [
    "# Experiments Notebook"
   ]
  },
  {
   "cell_type": "markdown",
   "id": "f571510a-865d-4ebd-b099-51a124d88665",
   "metadata": {},
   "source": [
    "This notebook contains the experiments conducted in the \"Using Deep Learned Vector Representations for Page Stream Segmentation by Agglomerative Clustering\" paper submitted to the Short papers track of SIGIR 2023."
   ]
  },
  {
   "cell_type": "markdown",
   "id": "7413d626-2a89-4e45-9b30-32aa03efd507",
   "metadata": {},
   "source": [
    "## Index\n",
    "\n",
    "1. [Data Loading](#dataloading)\n",
    "2. [Binary Classification](#bin_classification)\n",
    "    - 2.1 [VGG16 without knowing K](#bin_class_no_k)\n",
    "    - 2.2 [VGG16 with knowing K](#bin_class_k)\n",
    "3. [Clustering](#agglo_clustering)\n",
    "    - 3.1.1 [Pretrained No Switch](#pretrained_no_switch)\n",
    "    - 3.1.2 [Pretrained Switch](#pretrained_switch)\n",
    "    - 3.2.1 [Finetuned No Switch](#finetuned_no_switch)\n",
    "    - 3.2.2 [Finetuned Switch](#finetuned_switch)\n",
    "4. [Error Analaysis](#result_analysis)\n",
    "    - [Classification Mistakes](#classification_mistakes)\n",
    "    - [Vector Distances](#vector_dist)\n",
    "\n"
   ]
  },
  {
   "cell_type": "markdown",
   "id": "4be346c2-443c-4d3c-8926-670ef0678afe",
   "metadata": {},
   "source": [
    "<a id=\"dataloading\" />"
   ]
  },
  {
   "cell_type": "markdown",
   "id": "b24d943f-1e44-4120-9542-3eaa8a195f33",
   "metadata": {},
   "source": [
    "## Loading in the data and utilities"
   ]
  },
  {
   "cell_type": "markdown",
   "id": "baa64450-9023-4c35-857f-32748aa76530",
   "metadata": {},
   "source": [
    "To run the experiments, please first download the data and model from Zenodo using the following link: INSERT LINK. Alternatively, you can run 'TODO.py' to automatically download the data and have it in the right place in the repository."
   ]
  },
  {
   "cell_type": "code",
   "execution_count": 1,
   "id": "6546d390-635e-4159-a8c0-81f7dbd39e7b",
   "metadata": {},
   "outputs": [],
   "source": [
    "# Imports\n",
    "import os\n",
    "import json\n",
    "import pickle\n",
    "import numpy as np\n",
    "import pandas as pd\n",
    "from tqdm import tqdm\n",
    "from collections import defaultdict\n",
    "\n",
    "import warnings\n",
    "warnings.simplefilter(action='ignore', category=FutureWarning)\n",
    "\n",
    "# Local imports\n",
    "%run ../utils/utils.py\n",
    "%run ../utils/metricutils.py"
   ]
  },
  {
   "cell_type": "code",
   "execution_count": 2,
   "id": "d98967f4-c70b-430c-906c-c1a0c8af12a3",
   "metadata": {},
   "outputs": [],
   "source": [
    "# Loading the data vectors, because we are loading from numpy, we should allow pickle loading.\n",
    "pretrained_vectors= np.load('../data/pretrained_vectors.npy', allow_pickle=True)[()]\n",
    "finetuned_vectors = np.load('../data/finetuned_vectors.npy', allow_pickle=True)[()]\n",
    "\n",
    "gold_standard = read_json('../data/gold_standard.json')"
   ]
  },
  {
   "cell_type": "code",
   "execution_count": 3,
   "id": "b6c4efe4-9374-4adc-baa2-13dba06d363f",
   "metadata": {},
   "outputs": [
    {
     "data": {
      "text/plain": [
       "(4096,)"
      ]
     },
     "execution_count": 3,
     "metadata": {},
     "output_type": "execute_result"
    }
   ],
   "source": [
    "pretrained_vectors['82493e06e956a0262e67e32167c32ff4_documenten_2'][0].shape"
   ]
  },
  {
   "cell_type": "markdown",
   "id": "e3e2c340-c041-4fbc-abc3-57c0ce080a2f",
   "metadata": {},
   "source": [
    "### Note on input formats"
   ]
  },
  {
   "cell_type": "markdown",
   "id": "37d4f994-0e25-4824-bb92-3a8eb16df526",
   "metadata": {},
   "source": [
    "In the experiments, we use the following format: each stream is a key-value pair in a dictionary, where the key is the stream name, and the value is the label for each individual page.\n",
    "We use the binary classification format to define the gold standard, with a stream being represented by a binary vector and a binary label for each page, with a 0 meaning a page is part of the current document, and a 1 indicating that the page is a boundary page. By definition, we let the first page of a stream always be a boundary page.\n",
    "\n",
    "Alternatively, some of the methods use a different format, where streams are resprented as a list of documents lengths. We use this format only sporidically in the internal workings of some functionns because the logic is easier."
   ]
  },
  {
   "cell_type": "markdown",
   "id": "e2fde780-2ba0-42dc-9c9a-ebb0501f9f0e",
   "metadata": {},
   "source": [
    "<a id=\"baseline\" />"
   ]
  },
  {
   "cell_type": "markdown",
   "id": "b7e81347-79f4-491e-a893-3142e96eff82",
   "metadata": {},
   "source": [
    "## Mean Document Baseline\n",
    "\n",
    "The first baseline that we will use in the paper is the mean document baseline, where we just predict each document in a stream to have the median length of a document in the complete gold standard."
   ]
  },
  {
   "cell_type": "code",
   "execution_count": 4,
   "id": "710e4999-2653-4a3d-b139-58bd9dbd7796",
   "metadata": {},
   "outputs": [],
   "source": [
    "def mean_document_length_baseline(gold_standard: dict):\n",
    "    predictions = {}\n",
    "    for key, value in gold_standard.items():\n",
    "        mean_prediction = np.zeros_like(value)\n",
    "        mean_document_length = int(np.array(bin_to_length_list(value)).mean())\n",
    "        mean_prediction[np.arange(len(value)) % mean_document_length == 0] = 1\n",
    "        predictions[key] = mean_prediction\n",
    "    return predictions"
   ]
  },
  {
   "cell_type": "code",
   "execution_count": 4,
   "id": "e231000b-90bf-4338-afcc-b7906942145e",
   "metadata": {},
   "outputs": [
    {
     "data": {
      "text/html": [
       "<div>\n",
       "<style scoped>\n",
       "    .dataframe tbody tr th:only-of-type {\n",
       "        vertical-align: middle;\n",
       "    }\n",
       "\n",
       "    .dataframe tbody tr th {\n",
       "        vertical-align: top;\n",
       "    }\n",
       "\n",
       "    .dataframe thead th {\n",
       "        text-align: right;\n",
       "    }\n",
       "</style>\n",
       "<table border=\"1\" class=\"dataframe\">\n",
       "  <thead>\n",
       "    <tr style=\"text-align: right;\">\n",
       "      <th></th>\n",
       "      <th>precision</th>\n",
       "      <th>recall</th>\n",
       "      <th>F1</th>\n",
       "      <th>support</th>\n",
       "      <th>CI Precision</th>\n",
       "      <th>CI Recall</th>\n",
       "      <th>CI F1</th>\n",
       "    </tr>\n",
       "  </thead>\n",
       "  <tbody>\n",
       "    <tr>\n",
       "      <th>Page</th>\n",
       "      <td>0.38</td>\n",
       "      <td>0.48</td>\n",
       "      <td>0.42</td>\n",
       "      <td>6347</td>\n",
       "      <td>0.37-0.39</td>\n",
       "      <td>0.47-0.49</td>\n",
       "      <td>0.41-0.43</td>\n",
       "    </tr>\n",
       "    <tr>\n",
       "      <th>Doc</th>\n",
       "      <td>0.31</td>\n",
       "      <td>0.27</td>\n",
       "      <td>0.25</td>\n",
       "      <td>6347</td>\n",
       "      <td>0.3-0.32</td>\n",
       "      <td>0.26-0.28</td>\n",
       "      <td>0.24-0.26</td>\n",
       "    </tr>\n",
       "  </tbody>\n",
       "</table>\n",
       "</div>"
      ],
      "text/plain": [
       "      precision  recall    F1  support CI Precision  CI Recall      CI F1\n",
       "Page       0.38    0.48  0.42     6347    0.37-0.39  0.47-0.49  0.41-0.43\n",
       "Doc        0.31    0.27  0.25     6347     0.3-0.32  0.26-0.28  0.24-0.26"
      ]
     },
     "execution_count": 4,
     "metadata": {},
     "output_type": "execute_result"
    }
   ],
   "source": [
    "mean_length_predictions = mean_document_length_baseline(gold_standard)\n",
    "evaluation_report(gold_standard, mean_length_predictions)"
   ]
  },
  {
   "cell_type": "markdown",
   "id": "2a21febe-e9e6-4dbf-8fb1-052f416579ad",
   "metadata": {},
   "source": [
    "<a id=\"bin_classification\" />"
   ]
  },
  {
   "cell_type": "markdown",
   "id": "cbaa947f-82b2-430c-8250-88a8738362f1",
   "metadata": {},
   "source": [
    "## Binary Classification Results"
   ]
  },
  {
   "cell_type": "markdown",
   "id": "87a6d435-a24d-4461-b83c-ed0c65722c43",
   "metadata": {},
   "source": [
    "For the comparison of the agglomerative clustering model with the binary classification model, we need to obtain the predictions of the VGG16 model trained on the dataset. For this we will load the saved model, to save time in training the model. As we also have the vectors obtained after training, we can simply use only that part of the model to obtain the results for the VGG16 model on the testset."
   ]
  },
  {
   "cell_type": "code",
   "execution_count": 5,
   "id": "cb9de314-8a03-49ad-95ef-bcd9127c21ae",
   "metadata": {},
   "outputs": [
    {
     "name": "stderr",
     "output_type": "stream",
     "text": [
      "2023-02-15 14:19:40.299675: I tensorflow/core/platform/cpu_feature_guard.cc:193] This TensorFlow binary is optimized with oneAPI Deep Neural Network Library (oneDNN) to use the following CPU instructions in performance-critical operations:  SSE4.1 SSE4.2 AVX AVX2 AVX512F AVX512_VNNI FMA\n",
      "To enable them in other operations, rebuild TensorFlow with the appropriate compiler flags.\n"
     ]
    },
    {
     "name": "stdout",
     "output_type": "stream",
     "text": [
      "WARNING:tensorflow:SavedModel saved prior to TF 2.5 detected when loading Keras model. Please ensure that you are saving the model with model.save() or tf.keras.models.save_model(), *NOT* tf.saved_model.save(). To confirm, there should be a file named \"keras_metadata.pb\" in the SavedModel directory.\n"
     ]
    },
    {
     "name": "stderr",
     "output_type": "stream",
     "text": [
      "2023-02-15 14:19:45.037559: I tensorflow/core/platform/cpu_feature_guard.cc:193] This TensorFlow binary is optimized with oneAPI Deep Neural Network Library (oneDNN) to use the following CPU instructions in performance-critical operations:  SSE4.1 SSE4.2 AVX AVX2 AVX512F AVX512_VNNI FMA\n",
      "To enable them in other operations, rebuild TensorFlow with the appropriate compiler flags.\n"
     ]
    },
    {
     "name": "stdout",
     "output_type": "stream",
     "text": [
      "Model: \"model\"\n",
      "_________________________________________________________________\n",
      " Layer (type)                Output Shape              Param #   \n",
      "=================================================================\n",
      " input_1 (InputLayer)        [(None, 256)]             0         \n",
      "                                                                 \n",
      " leaky_re_lu_1 (LeakyReLU)   (None, 256)               0         \n",
      "                                                                 \n",
      " dense_2 (Dense)             (None, 1)                 257       \n",
      "                                                                 \n",
      "=================================================================\n",
      "Total params: 257\n",
      "Trainable params: 257\n",
      "Non-trainable params: 0\n",
      "_________________________________________________________________\n"
     ]
    }
   ],
   "source": [
    "from tensorflow.keras.models import load_model, Model\n",
    "trained_VGG16_model = load_model('../data/trained_VGG16_model')\n",
    "\n",
    "#select only top end of model as we already have the vectors precomputed\n",
    "layer_name = 'dense_1'\n",
    "VGG16_top = Model(inputs=trained_VGG16_model.get_layer(layer_name).output,\n",
    "                         outputs=trained_VGG16_model.output)\n",
    "# Print the architecture of the model after the first dense layer\n",
    "VGG16_top.summary()"
   ]
  },
  {
   "cell_type": "markdown",
   "id": "b66caa9e-5b54-40ab-b4f7-081f4d1263a8",
   "metadata": {},
   "source": [
    "Now that we have loaded the model, the next step is to obtain the predictions for all the streams using the finetuned vectors that we have saved. For the case in which we don't know k, we simple round all the predictions, as this causes outputs larger than 0.5 to become 1, and inputs lower than 0.5 to become 0."
   ]
  },
  {
   "cell_type": "code",
   "execution_count": 6,
   "id": "123a78f7-7fa5-4177-8740-d5bc47b5b433",
   "metadata": {},
   "outputs": [],
   "source": [
    "def binary_classification(use_k: bool=False):\n",
    "    VGG16_predictions = {}\n",
    "\n",
    "    for stream_id, stream_vectors in finetuned_vectors.items():\n",
    "        number_of_boundaries = sum(gold_standard[stream_id])\n",
    "        VGG16_prediction = VGG16_top.predict(stream_vectors)\n",
    "        # If we are using K then we will need to get the total number of boundaries\n",
    "        # from the gold standard.\n",
    "        if use_k:\n",
    "            VGG16_prediction = select_topk(VGG16_prediction.flatten(), number_of_boundaries).flatten()\n",
    "        else:\n",
    "            # set first element to 1, this is always true in our definition\n",
    "            VGG16_prediction = VGG16_prediction.round()\n",
    "        VGG16_prediction[0] = 1\n",
    "        VGG16_predictions[stream_id] = VGG16_prediction.flatten()\n",
    "    return VGG16_predictions\n",
    "    \n"
   ]
  },
  {
   "cell_type": "code",
   "execution_count": 7,
   "id": "8afc7a90-2301-4a76-b95b-5f5eba368eba",
   "metadata": {},
   "outputs": [
    {
     "name": "stdout",
     "output_type": "stream",
     "text": [
      "Running predictions for VGGG16 model where we do not know K\n",
      "2/2 [==============================] - 0s 2ms/step\n",
      "2/2 [==============================] - 0s 2ms/step\n",
      "2/2 [==============================] - 0s 3ms/step\n",
      "3/3 [==============================] - 0s 2ms/step\n",
      "3/3 [==============================] - 0s 2ms/step\n",
      "2/2 [==============================] - 0s 3ms/step\n",
      "3/3 [==============================] - 0s 2ms/step\n",
      "12/12 [==============================] - 0s 1ms/step\n",
      "2/2 [==============================] - 0s 2ms/step\n",
      "4/4 [==============================] - 0s 2ms/step\n",
      "63/63 [==============================] - 0s 867us/step\n",
      "20/20 [==============================] - 0s 1ms/step\n",
      "15/15 [==============================] - 0s 1ms/step\n",
      "2/2 [==============================] - 0s 2ms/step\n",
      "17/17 [==============================] - 0s 1ms/step\n",
      "35/35 [==============================] - 0s 887us/step\n",
      "163/163 [==============================] - 0s 750us/step\n",
      "5/5 [==============================] - 0s 2ms/step\n",
      "1/1 [==============================] - 0s 19ms/step\n",
      "7/7 [==============================] - 0s 1ms/step\n",
      "6/6 [==============================] - 0s 1ms/step\n",
      "13/13 [==============================] - 0s 1ms/step\n",
      "43/43 [==============================] - 0s 926us/step\n",
      "17/17 [==============================] - 0s 1ms/step\n",
      "14/14 [==============================] - 0s 1ms/step\n",
      "3/3 [==============================] - 0s 2ms/step\n",
      "13/13 [==============================] - 0s 1ms/step\n",
      "10/10 [==============================] - 0s 1ms/step\n",
      "37/37 [==============================] - 0s 951us/step\n",
      "78/78 [==============================] - 0s 846us/step\n",
      "63/63 [==============================] - 0s 823us/step\n",
      "84/84 [==============================] - 0s 932us/step\n",
      "75/75 [==============================] - 0s 825us/step\n",
      "3/3 [==============================] - 0s 2ms/step\n",
      "Running predictions for VGGG16 model where we do know K\n",
      "2/2 [==============================] - 0s 2ms/step\n",
      "2/2 [==============================] - 0s 2ms/step\n",
      "2/2 [==============================] - 0s 2ms/step\n",
      "3/3 [==============================] - 0s 2ms/step\n",
      "3/3 [==============================] - 0s 2ms/step\n",
      "2/2 [==============================] - 0s 3ms/step\n",
      "3/3 [==============================] - 0s 2ms/step\n",
      "12/12 [==============================] - 0s 1ms/step\n",
      "2/2 [==============================] - 0s 2ms/step\n",
      "4/4 [==============================] - 0s 2ms/step\n",
      "63/63 [==============================] - 0s 785us/step\n",
      "20/20 [==============================] - 0s 992us/step\n",
      "15/15 [==============================] - 0s 978us/step\n",
      "2/2 [==============================] - 0s 2ms/step\n",
      "17/17 [==============================] - 0s 960us/step\n",
      "35/35 [==============================] - 0s 919us/step\n",
      "163/163 [==============================] - 0s 749us/step\n",
      "5/5 [==============================] - 0s 1ms/step\n",
      "1/1 [==============================] - 0s 20ms/step\n",
      "7/7 [==============================] - 0s 1ms/step\n",
      "6/6 [==============================] - 0s 2ms/step\n",
      "13/13 [==============================] - 0s 1ms/step\n",
      "43/43 [==============================] - 0s 963us/step\n",
      "17/17 [==============================] - 0s 945us/step\n",
      "14/14 [==============================] - 0s 1ms/step\n",
      "3/3 [==============================] - 0s 2ms/step\n",
      "13/13 [==============================] - 0s 1ms/step\n",
      "10/10 [==============================] - 0s 1ms/step\n",
      "37/37 [==============================] - 0s 943us/step\n",
      "78/78 [==============================] - 0s 835us/step\n",
      "63/63 [==============================] - 0s 911us/step\n",
      "84/84 [==============================] - 0s 825us/step\n",
      "75/75 [==============================] - 0s 861us/step\n",
      "3/3 [==============================] - 0s 2ms/step\n"
     ]
    }
   ],
   "source": [
    "print(\"Running predictions for VGGG16 model where we do not know K\")\n",
    "VGG16_predictions_no_k = binary_classification(use_k=False)\n",
    "print(\"Running predictions for VGGG16 model where we do know K\")\n",
    "VGG16_predictions_k = binary_classification(use_k=True)"
   ]
  },
  {
   "cell_type": "markdown",
   "id": "aa322c80-4730-4500-abd2-028959191cd6",
   "metadata": {},
   "source": [
    "We can now use these predictions to obtain scores for the model. First we simply round the predictions, which will give as scores for the normal scenario, and then we will only select the top-k, to be in line with the experiments where k is known."
   ]
  },
  {
   "cell_type": "markdown",
   "id": "cd9e45d0-1d93-426a-831b-5a4eacf838d6",
   "metadata": {},
   "source": [
    "<a id =\"bin_class_no_k\" />"
   ]
  },
  {
   "cell_type": "markdown",
   "id": "b9fd0e3e-3dd1-43fa-9181-516c09ed38a5",
   "metadata": {},
   "source": [
    "### Binary Classification Results without knowing k"
   ]
  },
  {
   "cell_type": "code",
   "execution_count": 8,
   "id": "8528e13e-7227-4cd8-bc7a-f0505d11bd0e",
   "metadata": {},
   "outputs": [
    {
     "data": {
      "text/html": [
       "<div>\n",
       "<style scoped>\n",
       "    .dataframe tbody tr th:only-of-type {\n",
       "        vertical-align: middle;\n",
       "    }\n",
       "\n",
       "    .dataframe tbody tr th {\n",
       "        vertical-align: top;\n",
       "    }\n",
       "\n",
       "    .dataframe thead th {\n",
       "        text-align: right;\n",
       "    }\n",
       "</style>\n",
       "<table border=\"1\" class=\"dataframe\">\n",
       "  <thead>\n",
       "    <tr style=\"text-align: right;\">\n",
       "      <th></th>\n",
       "      <th>precision</th>\n",
       "      <th>recall</th>\n",
       "      <th>F1</th>\n",
       "      <th>support</th>\n",
       "      <th>CI Precision</th>\n",
       "      <th>CI Recall</th>\n",
       "      <th>CI F1</th>\n",
       "    </tr>\n",
       "  </thead>\n",
       "  <tbody>\n",
       "    <tr>\n",
       "      <th>Page</th>\n",
       "      <td>0.83</td>\n",
       "      <td>0.82</td>\n",
       "      <td>0.78</td>\n",
       "      <td>6347</td>\n",
       "      <td>0.82-0.84</td>\n",
       "      <td>0.81-0.83</td>\n",
       "      <td>0.77-0.79</td>\n",
       "    </tr>\n",
       "    <tr>\n",
       "      <th>Doc</th>\n",
       "      <td>0.70</td>\n",
       "      <td>0.71</td>\n",
       "      <td>0.75</td>\n",
       "      <td>6347</td>\n",
       "      <td>0.69-0.71</td>\n",
       "      <td>0.7-0.72</td>\n",
       "      <td>0.74-0.76</td>\n",
       "    </tr>\n",
       "  </tbody>\n",
       "</table>\n",
       "</div>"
      ],
      "text/plain": [
       "      precision  recall    F1  support CI Precision  CI Recall      CI F1\n",
       "Page       0.83    0.82  0.78     6347    0.82-0.84  0.81-0.83  0.77-0.79\n",
       "Doc        0.70    0.71  0.75     6347    0.69-0.71   0.7-0.72  0.74-0.76"
      ]
     },
     "execution_count": 8,
     "metadata": {},
     "output_type": "execute_result"
    }
   ],
   "source": [
    "# Scores are not quite equal, ask about the other model and vectors that were used.\n",
    "evaluation_report(gold_standard, VGG16_predictions_no_k)"
   ]
  },
  {
   "cell_type": "markdown",
   "id": "48d740f0-76d0-442c-b4a3-a6e9164aadd4",
   "metadata": {},
   "source": [
    "<a id =\"bin_class_k\" />"
   ]
  },
  {
   "cell_type": "markdown",
   "id": "7ed85714-8711-44a0-9400-d9fa042f4129",
   "metadata": {},
   "source": [
    "### Binary Classification Results with knowing k"
   ]
  },
  {
   "cell_type": "code",
   "execution_count": 9,
   "id": "ac5abe98-1ba4-48ba-b3df-c9b79ac1318b",
   "metadata": {},
   "outputs": [
    {
     "data": {
      "text/html": [
       "<div>\n",
       "<style scoped>\n",
       "    .dataframe tbody tr th:only-of-type {\n",
       "        vertical-align: middle;\n",
       "    }\n",
       "\n",
       "    .dataframe tbody tr th {\n",
       "        vertical-align: top;\n",
       "    }\n",
       "\n",
       "    .dataframe thead th {\n",
       "        text-align: right;\n",
       "    }\n",
       "</style>\n",
       "<table border=\"1\" class=\"dataframe\">\n",
       "  <thead>\n",
       "    <tr style=\"text-align: right;\">\n",
       "      <th></th>\n",
       "      <th>precision</th>\n",
       "      <th>recall</th>\n",
       "      <th>F1</th>\n",
       "      <th>support</th>\n",
       "      <th>CI Precision</th>\n",
       "      <th>CI Recall</th>\n",
       "      <th>CI F1</th>\n",
       "    </tr>\n",
       "  </thead>\n",
       "  <tbody>\n",
       "    <tr>\n",
       "      <th>Page</th>\n",
       "      <td>0.80</td>\n",
       "      <td>0.83</td>\n",
       "      <td>0.81</td>\n",
       "      <td>6347</td>\n",
       "      <td>0.79-0.81</td>\n",
       "      <td>0.82-0.84</td>\n",
       "      <td>0.8-0.82</td>\n",
       "    </tr>\n",
       "    <tr>\n",
       "      <th>Doc</th>\n",
       "      <td>0.75</td>\n",
       "      <td>0.74</td>\n",
       "      <td>0.73</td>\n",
       "      <td>6347</td>\n",
       "      <td>0.74-0.76</td>\n",
       "      <td>0.73-0.75</td>\n",
       "      <td>0.72-0.74</td>\n",
       "    </tr>\n",
       "  </tbody>\n",
       "</table>\n",
       "</div>"
      ],
      "text/plain": [
       "      precision  recall    F1  support CI Precision  CI Recall      CI F1\n",
       "Page       0.80    0.83  0.81     6347    0.79-0.81  0.82-0.84   0.8-0.82\n",
       "Doc        0.75    0.74  0.73     6347    0.74-0.76  0.73-0.75  0.72-0.74"
      ]
     },
     "execution_count": 9,
     "metadata": {},
     "output_type": "execute_result"
    }
   ],
   "source": [
    "evaluation_report(gold_standard, VGG16_predictions_k)"
   ]
  },
  {
   "cell_type": "markdown",
   "id": "c77074f0-71bb-4a6f-98fd-aed8be460fae",
   "metadata": {},
   "source": [
    "<a id=\"agglo_clustering\" />"
   ]
  },
  {
   "cell_type": "markdown",
   "id": "8da1d7af-2536-4050-8b3a-ebbfeacc060d",
   "metadata": {},
   "source": [
    "## Agglomerative Clustering"
   ]
  },
  {
   "cell_type": "markdown",
   "id": "29e52acb-ccf9-46e6-8c71-c338310d2a0c",
   "metadata": {},
   "source": [
    "Here we set up the code to run the agglomerative clustering algorithm, both in the cases where k is known, whether we use pretrained or finetuned embeddings, and whether or not we use the 'switch' technique."
   ]
  },
  {
   "cell_type": "code",
   "execution_count": 10,
   "id": "152be072-b387-455e-81c4-9e870b134793",
   "metadata": {},
   "outputs": [],
   "source": [
    "def agglomerative_clustering(mode:str=\"finetuned\", use_switch: bool = False):\n",
    "    assert mode in [\"finetuned\", \"pretrained\"]\n",
    "    \n",
    "    clustering_predictions = {}\n",
    "    dict_list = {}\n",
    "    \n",
    "    for stream_id in gold_standard.keys():\n",
    "        \n",
    "        if mode == \"finetuned\":\n",
    "            image_vectors = finetuned_vectors[stream_id]\n",
    "        elif mode == \"pretrained\":\n",
    "            image_vectors = pretrained_vectors[stream_id]\n",
    "\n",
    "        labels = gold_standard[stream_id]\n",
    "        n_pages = len(labels)\n",
    "        n_docs = sum(labels)\n",
    "\n",
    "        if use_switch:\n",
    "            _, switch_predictions = cluster_with_switch(labels, image_vectors, switch_first=True)\n",
    "            clustering_predictions[stream_id] = switch_predictions\n",
    "\n",
    "        if not use_switch:\n",
    "            ## Not using switch\n",
    "            distance_list = np.array([distance.cosine(image_vectors[i], image_vectors[i+1]) for i in range(len(image_vectors)-1)])\n",
    "            connectivity_matrix = create_connectivity_matrix(n_pages)\n",
    "            if len(distance_list) > 1:\n",
    "                dist_list_norm = (distance_list - np.min(distance_list)) / (np.max(distance_list) - np.min(distance_list))\n",
    "                nth_highest = np.sort(dist_list_norm)[-n_docs]\n",
    "            else:\n",
    "                dist_list_norm = dist_list\n",
    "\n",
    "            if n_pages > 1:\n",
    "                cluster = AgglomerativeClustering(n_clusters=n_docs, affinity='cosine',\n",
    "                                                  linkage='average',compute_distances = True,\n",
    "                                                  connectivity = connectivity_matrix)  \n",
    "                image_predictions = cluster.fit_predict(image_vectors) \n",
    "\n",
    "            clustering_predictions[stream_id] = length_list_to_bin(groups_to_lengths(image_predictions))\n",
    "        \n",
    "    # return the predictions\n",
    "    return clustering_predictions"
   ]
  },
  {
   "cell_type": "markdown",
   "id": "1428545e-49d3-41eb-a5fb-221a1edba547",
   "metadata": {},
   "source": [
    "Using this code, we can obtain the results for all the possible settings with agglomerative clustering. We will first show the results of both using switching and not using switching with pretrained vectors, followed by the results of both strategies on finetuned vectors."
   ]
  },
  {
   "cell_type": "markdown",
   "id": "2a9d4bfe-7159-472a-bb6b-3267062117bb",
   "metadata": {},
   "source": [
    "<a id=\"pretrained_no_switch\" />"
   ]
  },
  {
   "cell_type": "markdown",
   "id": "36ec01c1-a161-4955-98fe-d8e2be16aab8",
   "metadata": {},
   "source": [
    "### Clustering with pretrained vectors no switch"
   ]
  },
  {
   "cell_type": "code",
   "execution_count": 11,
   "id": "7830c194-130f-4604-b763-aa405b57954b",
   "metadata": {},
   "outputs": [
    {
     "data": {
      "text/html": [
       "<div>\n",
       "<style scoped>\n",
       "    .dataframe tbody tr th:only-of-type {\n",
       "        vertical-align: middle;\n",
       "    }\n",
       "\n",
       "    .dataframe tbody tr th {\n",
       "        vertical-align: top;\n",
       "    }\n",
       "\n",
       "    .dataframe thead th {\n",
       "        text-align: right;\n",
       "    }\n",
       "</style>\n",
       "<table border=\"1\" class=\"dataframe\">\n",
       "  <thead>\n",
       "    <tr style=\"text-align: right;\">\n",
       "      <th></th>\n",
       "      <th>precision</th>\n",
       "      <th>recall</th>\n",
       "      <th>F1</th>\n",
       "      <th>support</th>\n",
       "      <th>CI Precision</th>\n",
       "      <th>CI Recall</th>\n",
       "      <th>CI F1</th>\n",
       "    </tr>\n",
       "  </thead>\n",
       "  <tbody>\n",
       "    <tr>\n",
       "      <th>Page</th>\n",
       "      <td>0.48</td>\n",
       "      <td>0.48</td>\n",
       "      <td>0.48</td>\n",
       "      <td>6347</td>\n",
       "      <td>0.47-0.49</td>\n",
       "      <td>0.47-0.49</td>\n",
       "      <td>0.47-0.49</td>\n",
       "    </tr>\n",
       "    <tr>\n",
       "      <th>Doc</th>\n",
       "      <td>0.27</td>\n",
       "      <td>0.27</td>\n",
       "      <td>0.27</td>\n",
       "      <td>6347</td>\n",
       "      <td>0.26-0.28</td>\n",
       "      <td>0.26-0.28</td>\n",
       "      <td>0.26-0.28</td>\n",
       "    </tr>\n",
       "  </tbody>\n",
       "</table>\n",
       "</div>"
      ],
      "text/plain": [
       "      precision  recall    F1  support CI Precision  CI Recall      CI F1\n",
       "Page       0.48    0.48  0.48     6347    0.47-0.49  0.47-0.49  0.47-0.49\n",
       "Doc        0.27    0.27  0.27     6347    0.26-0.28  0.26-0.28  0.26-0.28"
      ]
     },
     "execution_count": 11,
     "metadata": {},
     "output_type": "execute_result"
    }
   ],
   "source": [
    "clustering_pretrained_no_switch = agglomerative_clustering(mode=\"pretrained\", use_switch = False)\n",
    "evaluation_report(gold_standard, clustering_pretrained_no_switch)"
   ]
  },
  {
   "cell_type": "markdown",
   "id": "5710f796-5a80-4829-88d6-7ae391e1b5c4",
   "metadata": {},
   "source": [
    "<a id=\"pretrained_switch\" />"
   ]
  },
  {
   "cell_type": "markdown",
   "id": "2afdeb2a-4441-482e-a450-12bab7ceb270",
   "metadata": {},
   "source": [
    "### Clustering with pretrained vectors with switch"
   ]
  },
  {
   "cell_type": "code",
   "execution_count": 12,
   "id": "55c7d2a1-ea61-4789-b646-5a57f75cc92b",
   "metadata": {},
   "outputs": [
    {
     "data": {
      "text/html": [
       "<div>\n",
       "<style scoped>\n",
       "    .dataframe tbody tr th:only-of-type {\n",
       "        vertical-align: middle;\n",
       "    }\n",
       "\n",
       "    .dataframe tbody tr th {\n",
       "        vertical-align: top;\n",
       "    }\n",
       "\n",
       "    .dataframe thead th {\n",
       "        text-align: right;\n",
       "    }\n",
       "</style>\n",
       "<table border=\"1\" class=\"dataframe\">\n",
       "  <thead>\n",
       "    <tr style=\"text-align: right;\">\n",
       "      <th></th>\n",
       "      <th>precision</th>\n",
       "      <th>recall</th>\n",
       "      <th>F1</th>\n",
       "      <th>support</th>\n",
       "      <th>CI Precision</th>\n",
       "      <th>CI Recall</th>\n",
       "      <th>CI F1</th>\n",
       "    </tr>\n",
       "  </thead>\n",
       "  <tbody>\n",
       "    <tr>\n",
       "      <th>Page</th>\n",
       "      <td>0.41</td>\n",
       "      <td>0.41</td>\n",
       "      <td>0.41</td>\n",
       "      <td>6347</td>\n",
       "      <td>0.4-0.42</td>\n",
       "      <td>0.4-0.42</td>\n",
       "      <td>0.4-0.42</td>\n",
       "    </tr>\n",
       "    <tr>\n",
       "      <th>Doc</th>\n",
       "      <td>0.28</td>\n",
       "      <td>0.28</td>\n",
       "      <td>0.28</td>\n",
       "      <td>6347</td>\n",
       "      <td>0.27-0.29</td>\n",
       "      <td>0.27-0.29</td>\n",
       "      <td>0.27-0.29</td>\n",
       "    </tr>\n",
       "  </tbody>\n",
       "</table>\n",
       "</div>"
      ],
      "text/plain": [
       "      precision  recall    F1  support CI Precision  CI Recall      CI F1\n",
       "Page       0.41    0.41  0.41     6347     0.4-0.42   0.4-0.42   0.4-0.42\n",
       "Doc        0.28    0.28  0.28     6347    0.27-0.29  0.27-0.29  0.27-0.29"
      ]
     },
     "execution_count": 12,
     "metadata": {},
     "output_type": "execute_result"
    }
   ],
   "source": [
    "clustering_pretrained_switch = agglomerative_clustering(mode=\"pretrained\", use_switch = True)\n",
    "evaluation_report(gold_standard, clustering_pretrained_switch)"
   ]
  },
  {
   "cell_type": "markdown",
   "id": "deb2fcf1-58e7-4351-8d05-87a9522bc5f4",
   "metadata": {},
   "source": [
    "<a id=\"finetuned_no_switch\" />"
   ]
  },
  {
   "cell_type": "markdown",
   "id": "67a53c0f-8335-43cc-b225-5363fa7c866c",
   "metadata": {},
   "source": [
    "### Clustering with finetuned vectors no switch"
   ]
  },
  {
   "cell_type": "code",
   "execution_count": 13,
   "id": "e2b98dd2-cc01-4d9a-9e24-e5a55355dddd",
   "metadata": {},
   "outputs": [
    {
     "data": {
      "text/html": [
       "<div>\n",
       "<style scoped>\n",
       "    .dataframe tbody tr th:only-of-type {\n",
       "        vertical-align: middle;\n",
       "    }\n",
       "\n",
       "    .dataframe tbody tr th {\n",
       "        vertical-align: top;\n",
       "    }\n",
       "\n",
       "    .dataframe thead th {\n",
       "        text-align: right;\n",
       "    }\n",
       "</style>\n",
       "<table border=\"1\" class=\"dataframe\">\n",
       "  <thead>\n",
       "    <tr style=\"text-align: right;\">\n",
       "      <th></th>\n",
       "      <th>precision</th>\n",
       "      <th>recall</th>\n",
       "      <th>F1</th>\n",
       "      <th>support</th>\n",
       "      <th>CI Precision</th>\n",
       "      <th>CI Recall</th>\n",
       "      <th>CI F1</th>\n",
       "    </tr>\n",
       "  </thead>\n",
       "  <tbody>\n",
       "    <tr>\n",
       "      <th>Page</th>\n",
       "      <td>0.53</td>\n",
       "      <td>0.53</td>\n",
       "      <td>0.53</td>\n",
       "      <td>6347</td>\n",
       "      <td>0.52-0.54</td>\n",
       "      <td>0.52-0.54</td>\n",
       "      <td>0.52-0.54</td>\n",
       "    </tr>\n",
       "    <tr>\n",
       "      <th>Doc</th>\n",
       "      <td>0.28</td>\n",
       "      <td>0.28</td>\n",
       "      <td>0.28</td>\n",
       "      <td>6347</td>\n",
       "      <td>0.27-0.29</td>\n",
       "      <td>0.27-0.29</td>\n",
       "      <td>0.27-0.29</td>\n",
       "    </tr>\n",
       "  </tbody>\n",
       "</table>\n",
       "</div>"
      ],
      "text/plain": [
       "      precision  recall    F1  support CI Precision  CI Recall      CI F1\n",
       "Page       0.53    0.53  0.53     6347    0.52-0.54  0.52-0.54  0.52-0.54\n",
       "Doc        0.28    0.28  0.28     6347    0.27-0.29  0.27-0.29  0.27-0.29"
      ]
     },
     "execution_count": 13,
     "metadata": {},
     "output_type": "execute_result"
    }
   ],
   "source": [
    "clustering_finetuned_no_switch = agglomerative_clustering(mode=\"finetuned\", use_switch = False)\n",
    "evaluation_report(gold_standard, clustering_finetuned_no_switch)"
   ]
  },
  {
   "cell_type": "markdown",
   "id": "e0b49964-3eaf-4e00-ab57-51abcd4a03c9",
   "metadata": {},
   "source": [
    "<a id=\"finetuned_switch\" />"
   ]
  },
  {
   "cell_type": "markdown",
   "id": "b1f17246-8a6d-47d8-9631-0227963ee8bf",
   "metadata": {},
   "source": [
    "### Clustering with finetuned vectors with switch"
   ]
  },
  {
   "cell_type": "code",
   "execution_count": 14,
   "id": "4d088e3e-fd4d-4e21-85d6-953b2ee742cc",
   "metadata": {},
   "outputs": [
    {
     "data": {
      "text/html": [
       "<div>\n",
       "<style scoped>\n",
       "    .dataframe tbody tr th:only-of-type {\n",
       "        vertical-align: middle;\n",
       "    }\n",
       "\n",
       "    .dataframe tbody tr th {\n",
       "        vertical-align: top;\n",
       "    }\n",
       "\n",
       "    .dataframe thead th {\n",
       "        text-align: right;\n",
       "    }\n",
       "</style>\n",
       "<table border=\"1\" class=\"dataframe\">\n",
       "  <thead>\n",
       "    <tr style=\"text-align: right;\">\n",
       "      <th></th>\n",
       "      <th>precision</th>\n",
       "      <th>recall</th>\n",
       "      <th>F1</th>\n",
       "      <th>support</th>\n",
       "      <th>CI Precision</th>\n",
       "      <th>CI Recall</th>\n",
       "      <th>CI F1</th>\n",
       "    </tr>\n",
       "  </thead>\n",
       "  <tbody>\n",
       "    <tr>\n",
       "      <th>Page</th>\n",
       "      <td>0.62</td>\n",
       "      <td>0.62</td>\n",
       "      <td>0.62</td>\n",
       "      <td>6347</td>\n",
       "      <td>0.61-0.63</td>\n",
       "      <td>0.61-0.63</td>\n",
       "      <td>0.61-0.63</td>\n",
       "    </tr>\n",
       "    <tr>\n",
       "      <th>Doc</th>\n",
       "      <td>0.52</td>\n",
       "      <td>0.52</td>\n",
       "      <td>0.52</td>\n",
       "      <td>6347</td>\n",
       "      <td>0.51-0.53</td>\n",
       "      <td>0.51-0.53</td>\n",
       "      <td>0.51-0.53</td>\n",
       "    </tr>\n",
       "  </tbody>\n",
       "</table>\n",
       "</div>"
      ],
      "text/plain": [
       "      precision  recall    F1  support CI Precision  CI Recall      CI F1\n",
       "Page       0.62    0.62  0.62     6347    0.61-0.63  0.61-0.63  0.61-0.63\n",
       "Doc        0.52    0.52  0.52     6347    0.51-0.53  0.51-0.53  0.51-0.53"
      ]
     },
     "execution_count": 14,
     "metadata": {},
     "output_type": "execute_result"
    }
   ],
   "source": [
    "clustering_finetuned_switch = agglomerative_clustering(mode=\"finetuned\", use_switch = True)\n",
    "evaluation_report(gold_standard, clustering_finetuned_switch)"
   ]
  },
  {
   "cell_type": "markdown",
   "id": "8e198001-493b-47f8-9815-8d9b90e05844",
   "metadata": {},
   "source": [
    "<a id=\"result_analysis\" />"
   ]
  },
  {
   "cell_type": "markdown",
   "id": "87abe782-7d18-4d1b-80a8-2d1ed7fc2b61",
   "metadata": {},
   "source": [
    "## Result Analysis\n",
    "\n",
    "In this section we will analyse the results, such as investigating the differences in the pretrained and finetuned vectors, as well as looking into the types of mistakes made by the clustering model."
   ]
  },
  {
   "cell_type": "markdown",
   "id": "b918c85a-ad5e-4178-8e44-e48eddec5d46",
   "metadata": {},
   "source": [
    "<a id=\"classification_mistakes\" />"
   ]
  },
  {
   "cell_type": "markdown",
   "id": "cb33ee82-60dd-49a7-b76f-dbd7b863dd85",
   "metadata": {},
   "source": [
    "### False Positives and False Negatives"
   ]
  },
  {
   "cell_type": "code",
   "execution_count": 15,
   "id": "c678a2b2-e8d4-4d79-82d5-f9bd391aed2f",
   "metadata": {},
   "outputs": [],
   "source": [
    "def get_classification_statistics(gold_standard: dict, predictions: dict):\n",
    "    \n",
    "    statistics_dict = defaultdict(int)\n",
    "    \n",
    "    for key in gold_standard.keys():\n",
    "        stream_statistics = get_base_metrics(np.array(gold_standard[key]),\n",
    "                                                np.array(predictions[key]))\n",
    "\n",
    "        for key in stream_statistics.keys():\n",
    "            statistics_dict[key] += stream_statistics[key]\n",
    "    \n",
    "    return statistics_dict\n"
   ]
  },
  {
   "cell_type": "code",
   "execution_count": 16,
   "id": "b449586a-4b2e-4fa4-b8c9-1f4b8ff75206",
   "metadata": {},
   "outputs": [],
   "source": [
    "VGG16_no_k_stats = get_classification_statistics(gold_standard, VGG16_predictions_no_k)\n",
    "VGG16_k_stats = get_classification_statistics(gold_standard, VGG16_predictions_k)"
   ]
  },
  {
   "cell_type": "code",
   "execution_count": 17,
   "id": "8f96f1f9-73a2-4c9d-b187-85da3fc46dac",
   "metadata": {},
   "outputs": [
    {
     "name": "stdout",
     "output_type": "stream",
     "text": [
      "With K not known we have 517 False Positives, and 734 False Negatives\n",
      "With K known we have 547 False Positives, and 539 False Negatives\n"
     ]
    }
   ],
   "source": [
    "print(\"With K not known we have %d False Positives, and %d False Negatives\" % (VGG16_no_k_stats['FP'], VGG16_no_k_stats['FN']))\n",
    "print(\"With K known we have %d False Positives, and %d False Negatives\" % (VGG16_k_stats['FP'], VGG16_k_stats['FN']))"
   ]
  },
  {
   "cell_type": "markdown",
   "id": "765baaf8-af24-4074-854c-27340e02dc5c",
   "metadata": {},
   "source": [
    "<a id=\"vector_dist\" />"
   ]
  },
  {
   "cell_type": "markdown",
   "id": "50c23a1b-1646-4888-940d-32626fca3be5",
   "metadata": {},
   "source": [
    "### Distances between vectors"
   ]
  },
  {
   "cell_type": "markdown",
   "id": "db46200b-0cfc-4c4e-9216-a4a6dea19c24",
   "metadata": {},
   "source": [
    "In this section we will investigate the cosine similarity between the finetuned vectors obtained from the VGG16 model, and differentiate between starting pages and non-starting pages. We will also do this for the petrained versions of the vectors."
   ]
  },
  {
   "cell_type": "code",
   "execution_count": 133,
   "id": "49549085-5681-43a4-ab59-7535210b13e3",
   "metadata": {},
   "outputs": [],
   "source": [
    "def custom_cosine(A, B):\n",
    "    return (np.dot(A, B.T)) / (scipy.linalg.norm(A)*scipy.linalg.norm(B))"
   ]
  },
  {
   "cell_type": "code",
   "execution_count": 134,
   "id": "ee40e7f5-b649-49f0-a3cf-a00456a3b628",
   "metadata": {},
   "outputs": [],
   "source": [
    "# Here we calculate the average distance between vectors of different types.\n",
    "from scipy.spatial.distance import pdist, squareform\n",
    "def distance_against_eachother_2(vector_list, gold_standard):\n",
    "    document_vector_boundaries = np.array(gold_standard).nonzero()[0]\n",
    "    document_vectors = np.split(vector_list, document_vector_boundaries)[1:]\n",
    "    \n",
    "    print(custom_cosine(document_vectors[0], document_vectors[0]))\n",
    "    \n",
    "    #same_document_similarity = [(custom_cosine(document, document).sum()-vector_list.shape[0]) / 2 for document in document_vectors]"
   ]
  },
  {
   "cell_type": "code",
   "execution_count": 135,
   "id": "2f81c267-3e95-4488-b367-6ae68e7e32f0",
   "metadata": {},
   "outputs": [],
   "source": [
    "def get_vector_distances(gold_standard: dict, predictions: dict):\n",
    "    \n",
    "    statistics_dict = defaultdict(int)\n",
    "    \n",
    "    for key in predictions.keys():\n",
    "        vector_distances = distance_against_eachother_2(predictions[key], gold_standard[key])\n",
    "        \n",
    "    \n",
    "    return statistics_dict"
   ]
  },
  {
   "cell_type": "code",
   "execution_count": 136,
   "id": "646a1771-2e9f-424d-acdd-62eec8bfe2e9",
   "metadata": {},
   "outputs": [
    {
     "name": "stdout",
     "output_type": "stream",
     "text": [
      "[[0.99999994]]\n",
      "[[0.10977144 0.08487014 0.08364015 0.09373466 0.11134786]\n",
      " [0.08487014 0.22891751 0.15016362 0.09818999 0.23040353]\n",
      " [0.08364015 0.15016362 0.18969935 0.10831296 0.15938331]\n",
      " [0.09373466 0.09818999 0.10831296 0.14744616 0.12317356]\n",
      " [0.11134786 0.23040353 0.15938331 0.12317356 0.3241654 ]]\n",
      "[[1.]]\n",
      "[[ 0.9259466  -0.15513776]\n",
      " [-0.15513776  0.07405321]]\n",
      "[[ 0.35969076 -0.12393659]\n",
      " [-0.12393659  0.64030915]]\n",
      "[[1.0000001]]\n",
      "[[ 0.32848597 -0.29789403]\n",
      " [-0.29789403  0.67151433]]\n",
      "[[ 0.28505707 -0.01337749 -0.02258576 -0.02477903 -0.0467885 ]\n",
      " [-0.01337749  0.14644262  0.12656662  0.08848834  0.10869379]\n",
      " [-0.02258576  0.12656662  0.24715778  0.13081188  0.1640793 ]\n",
      " [-0.02477903  0.08848834  0.13081188  0.13204272  0.13426793]\n",
      " [-0.0467885   0.10869379  0.1640793   0.13426793  0.18930006]]\n",
      "[[0.12264156 0.08722322 0.05287336 0.08066577 0.08800559 0.14034215\n",
      "  0.12810043 0.08414943 0.05482504]\n",
      " [0.08722322 0.08990871 0.05094488 0.07972496 0.0885293  0.13078667\n",
      "  0.12370169 0.08028663 0.05379395]\n",
      " [0.05287336 0.05094488 0.03509782 0.04846698 0.05319611 0.07971171\n",
      "  0.0739706  0.04853941 0.03287725]\n",
      " [0.08066577 0.07972496 0.04846698 0.08464694 0.0812491  0.1254627\n",
      "  0.11473866 0.07553915 0.05007553]\n",
      " [0.08800559 0.0885293  0.05319611 0.0812491  0.11766618 0.13349277\n",
      "  0.1288071  0.08079592 0.05563328]\n",
      " [0.14034215 0.13078667 0.07971171 0.1254627  0.13349277 0.23020051\n",
      "  0.2002548  0.12703654 0.08099267]\n",
      " [0.12810043 0.12370169 0.0739706  0.11473866 0.1288071  0.2002548\n",
      "  0.19463187 0.11696884 0.07668958]\n",
      " [0.08414943 0.08028663 0.04853941 0.07553915 0.08079592 0.12703654\n",
      "  0.11696884 0.08583735 0.04951309]\n",
      " [0.05482504 0.05379395 0.03287725 0.05007553 0.05563328 0.08099267\n",
      "  0.07668958 0.04951309 0.03936904]]\n",
      "[[1.]]\n",
      "[[ 0.9609603  -0.12194157]\n",
      " [-0.12194157  0.03903979]]\n",
      "[[0.5187708  0.0694383  0.10020783 0.08733635]\n",
      " [0.0694383  0.12673777 0.03631493 0.03692915]\n",
      " [0.10020783 0.03631493 0.21365367 0.06838672]\n",
      " [0.08733635 0.03692915 0.06838672 0.14083761]]\n",
      "[[1.]]\n",
      "[[1.]]\n",
      "[[ 0.20850515  0.00756223 -0.0034279 ]\n",
      " [ 0.00756223  0.38077876  0.28367475]\n",
      " [-0.0034279   0.28367475  0.4107159 ]]\n",
      "[[ 0.83236057 -0.23696077]\n",
      " [-0.23696077  0.16763957]]\n",
      "[[ 0.02255486  0.00148921 -0.00480123  0.0005463  -0.0015821  -0.00156445\n",
      "  -0.00084994 -0.00138534 -0.00202905]\n",
      " [ 0.00148921  0.16330498  0.11301843  0.10253973  0.09534072  0.08740761\n",
      "   0.12092892  0.12168233  0.084203  ]\n",
      " [-0.00480123  0.11301843  0.13628368  0.1042888   0.09725585  0.08889774\n",
      "   0.1170711   0.12117209  0.0826901 ]\n",
      " [ 0.0005463   0.10253973  0.1042888   0.11489188  0.08553177  0.0781609\n",
      "   0.09783686  0.09812958  0.07161164]\n",
      " [-0.0015821   0.09534072  0.09725585  0.08553177  0.09840457  0.0731955\n",
      "   0.09570476  0.08692361  0.06690953]\n",
      " [-0.00156445  0.08740761  0.08889774  0.0781609   0.0731955   0.07746023\n",
      "   0.0895732   0.08433342  0.06199969]\n",
      " [-0.00084994  0.12092892  0.1170711   0.09783686  0.09570476  0.0895732\n",
      "   0.14121296  0.11479909  0.08171537]\n",
      " [-0.00138534  0.12168233  0.12117209  0.09812958  0.08692361  0.08433342\n",
      "   0.11479909  0.1776009   0.08467562]\n",
      " [-0.00202905  0.084203    0.0826901   0.07161164  0.06690953  0.06199969\n",
      "   0.08171537  0.08467562  0.06828574]]\n",
      "[[ 0.00604961  0.00283319  0.00103919 ...  0.0013195   0.00173264\n",
      "   0.00384258]\n",
      " [ 0.00283319  0.01104734 -0.00103335 ... -0.00052038  0.00213124\n",
      "   0.00680983]\n",
      " [ 0.00103919 -0.00103335  0.00397972 ...  0.00185596  0.00199245\n",
      "   0.00050846]\n",
      " ...\n",
      " [ 0.0013195  -0.00052038  0.00185596 ...  0.00288126  0.00125578\n",
      "   0.00077501]\n",
      " [ 0.00173264  0.00213124  0.00199245 ...  0.00125578  0.00380531\n",
      "   0.00222898]\n",
      " [ 0.00384258  0.00680983  0.00050846 ...  0.00077501  0.00222898\n",
      "   0.01060043]]\n",
      "[[1.]]\n",
      "[[ 0.81104255 -0.14835605]\n",
      " [-0.14835605  0.18895763]]\n",
      "[[ 0.38063598 -0.09586383 -0.21737519  0.02710352]\n",
      " [-0.09586383  0.10988     0.19942456  0.01885734]\n",
      " [-0.21737519  0.19942456  0.46677068  0.03527019]\n",
      " [ 0.02710352  0.01885734  0.03527019  0.04271322]]\n",
      "[[0.36363065 0.10845398]\n",
      " [0.10845398 0.63636905]]\n",
      "[[0.08062518 0.06254601 0.0454912  0.05992389 0.03333196 0.08354694\n",
      "  0.04164423 0.0452133  0.01956698 0.05989434 0.06894726 0.05104916\n",
      "  0.05110462 0.0271467 ]\n",
      " [0.06254601 0.08567347 0.04631298 0.06816705 0.03416114 0.09083793\n",
      "  0.04283762 0.04670828 0.02066154 0.05899753 0.07387971 0.05723869\n",
      "  0.055407   0.02950073]\n",
      " [0.0454912  0.04631298 0.05397332 0.0496659  0.02753654 0.06301458\n",
      "  0.03201034 0.03124555 0.01598223 0.04190241 0.05439325 0.03987681\n",
      "  0.04311075 0.02453796]\n",
      " [0.05992389 0.06816705 0.0496659  0.10419393 0.03848372 0.11001918\n",
      "  0.0412241  0.05972398 0.01831416 0.0650285  0.07693951 0.06103997\n",
      "  0.06279838 0.03109786]\n",
      " [0.03333196 0.03416114 0.02753654 0.03848372 0.03954417 0.04630594\n",
      "  0.02621231 0.0278206  0.01086153 0.03535837 0.04629805 0.04031801\n",
      "  0.03452221 0.01786179]\n",
      " [0.08354694 0.09083793 0.06301458 0.11001918 0.04630594 0.15129143\n",
      "  0.05625335 0.06872909 0.0265804  0.08546051 0.09437705 0.06953018\n",
      "  0.08092476 0.04129952]\n",
      " [0.04164423 0.04283762 0.03201034 0.0412241  0.02621231 0.05625335\n",
      "  0.04235727 0.02841295 0.01383065 0.03988916 0.04449563 0.04018077\n",
      "  0.0345584  0.0185999 ]\n",
      " [0.0452133  0.04670828 0.03124555 0.05972398 0.0278206  0.06872909\n",
      "  0.02841295 0.05955975 0.01239333 0.04390505 0.05596469 0.04379712\n",
      "  0.04190495 0.01994971]\n",
      " [0.01956698 0.02066154 0.01598223 0.01831416 0.01086153 0.0265804\n",
      "  0.01383065 0.01239333 0.01319613 0.0188295  0.01851255 0.01357165\n",
      "  0.01510306 0.01063375]\n",
      " [0.05989434 0.05899753 0.04190241 0.0650285  0.03535837 0.08546051\n",
      "  0.03988916 0.04390505 0.0188295  0.08298799 0.06629328 0.04857281\n",
      "  0.05586383 0.02922173]\n",
      " [0.06894726 0.07387971 0.05439325 0.07693951 0.04629805 0.09437705\n",
      "  0.04449563 0.05596469 0.01851255 0.06629328 0.11109289 0.07159936\n",
      "  0.07149264 0.03329403]\n",
      " [0.05104916 0.05723869 0.03987681 0.06103997 0.04031801 0.06953018\n",
      "  0.04018077 0.04379712 0.01357165 0.04857281 0.07159936 0.07552517\n",
      "  0.05662004 0.02275941]\n",
      " [0.05110462 0.055407   0.04311075 0.06279838 0.03452221 0.08092476\n",
      "  0.0345584  0.04190495 0.01510306 0.05586383 0.07149264 0.05662004\n",
      "  0.07773986 0.02824078]\n",
      " [0.0271467  0.02950073 0.02453796 0.03109786 0.01786179 0.04129952\n",
      "  0.0185999  0.01994971 0.01063375 0.02922173 0.03329403 0.02275941\n",
      "  0.02824078 0.02223941]]\n",
      "[[0.99999994]]\n",
      "[[0.005954   0.00995753 0.00765596 0.01168029 0.00988744 0.00997283\n",
      "  0.00787624 0.01139746 0.00810345 0.00320871 0.00567461 0.01109551\n",
      "  0.00535978 0.01137754 0.00938381 0.00679424]\n",
      " [0.00995753 0.08461046 0.06185519 0.09562819 0.07896889 0.07408913\n",
      "  0.05297615 0.09038038 0.06592893 0.01583524 0.03762297 0.08434163\n",
      "  0.04277332 0.08951081 0.07205059 0.0535431 ]\n",
      " [0.00765596 0.06185519 0.05296507 0.07471018 0.06097102 0.06133677\n",
      "  0.04097827 0.07219027 0.05067001 0.01187889 0.02833896 0.06787048\n",
      "  0.03387297 0.07251415 0.0538533  0.042542  ]\n",
      " [0.01168029 0.09562819 0.07471018 0.11767355 0.09587953 0.0898531\n",
      "  0.06391979 0.10776774 0.07720926 0.01819678 0.04360915 0.10095531\n",
      "  0.05173543 0.10715114 0.0831342  0.0644157 ]\n",
      " [0.00988744 0.07896889 0.06097102 0.09587953 0.08279683 0.07341629\n",
      "  0.05269391 0.08824814 0.06378452 0.01521914 0.037218   0.08212426\n",
      "  0.04277362 0.08686348 0.06825458 0.0534899 ]\n",
      " [0.00997283 0.07408913 0.06133677 0.0898531  0.07341629 0.07770243\n",
      "  0.05027709 0.086967   0.06028896 0.01417543 0.03329262 0.08243532\n",
      "  0.04123422 0.08917245 0.0653171  0.05075654]\n",
      " [0.00787624 0.05297615 0.04097827 0.06391979 0.05269391 0.05027709\n",
      "  0.04253132 0.06038598 0.04427918 0.01197791 0.02456444 0.05687949\n",
      "  0.03039394 0.05996442 0.04495361 0.03687666]\n",
      " [0.01139746 0.09038038 0.07219027 0.10776774 0.08824814 0.086967\n",
      "  0.06038598 0.10766384 0.07342277 0.01800635 0.0413788  0.09756649\n",
      "  0.04888685 0.10455877 0.07889913 0.06223181]\n",
      " [0.00810345 0.06592893 0.05067001 0.07720926 0.06378452 0.06028896\n",
      "  0.04427918 0.07342277 0.05768417 0.01317164 0.0297127  0.06968059\n",
      "  0.03514728 0.07353693 0.05658146 0.04431912]\n",
      " [0.00320871 0.01583524 0.01187889 0.01819678 0.01521914 0.01417543\n",
      "  0.01197791 0.01800635 0.01317164 0.00685608 0.0084983  0.01680114\n",
      "  0.00884388 0.01766022 0.0144568  0.01095356]\n",
      " [0.00567461 0.03762297 0.02833896 0.04360915 0.037218   0.03329262\n",
      "  0.02456444 0.0413788  0.0297127  0.0084983  0.02476159 0.03812412\n",
      "  0.02070235 0.0397164  0.03318917 0.02632861]\n",
      " [0.01109551 0.08434163 0.06787048 0.10095531 0.08212426 0.08243532\n",
      "  0.05687949 0.09756649 0.06968059 0.01680114 0.03812412 0.09608908\n",
      "  0.04544722 0.09898057 0.07313126 0.05639352]\n",
      " [0.00535978 0.04277332 0.03387297 0.05173543 0.04277362 0.04123422\n",
      "  0.03039394 0.04888685 0.03514728 0.00884388 0.02070235 0.04544722\n",
      "  0.02676759 0.04837859 0.03707311 0.03045064]\n",
      " [0.01137754 0.08951081 0.07251415 0.10715114 0.08686348 0.08917245\n",
      "  0.05996442 0.10455877 0.07353693 0.01766022 0.0397164  0.09898057\n",
      "  0.04837859 0.10852219 0.07817344 0.06032741]\n",
      " [0.00938381 0.07205059 0.0538533  0.0831342  0.06825458 0.0653171\n",
      "  0.04495361 0.07889913 0.05658146 0.0144568  0.03318917 0.07313126\n",
      "  0.03707311 0.07817344 0.06613573 0.04720876]\n",
      " [0.00679424 0.0535431  0.042542   0.0644157  0.0534899  0.05075654\n",
      "  0.03687666 0.06223181 0.04431912 0.01095356 0.02632861 0.05639352\n",
      "  0.03045064 0.06032741 0.04720876 0.04128605]]\n",
      "[[ 0.60202354 -0.01549239  0.45207742]\n",
      " [-0.01549239  0.02735456 -0.01318134]\n",
      " [ 0.45207742 -0.01318134  0.37062156]]\n",
      "[[1.0000001]]\n",
      "[[5.1333650e-04 1.5990781e-04 4.0520687e-04 ... 8.2374125e-04\n",
      "  1.0975394e-04 5.2382267e-04]\n",
      " [1.5990781e-04 2.1543988e-04 1.5698487e-04 ... 2.9775887e-04\n",
      "  8.3554420e-05 1.7337718e-04]\n",
      " [4.0520687e-04 1.5698487e-04 7.1172399e-04 ... 8.7248336e-04\n",
      "  1.3533756e-04 6.4477551e-04]\n",
      " ...\n",
      " [8.2374125e-04 2.9775887e-04 8.7248336e-04 ... 2.1812618e-03\n",
      "  2.0509730e-04 1.1409930e-03]\n",
      " [1.0975394e-04 8.3554420e-05 1.3533756e-04 ... 2.0509730e-04\n",
      "  1.8198954e-04 1.9421462e-04]\n",
      " [5.2382267e-04 1.7337718e-04 6.4477551e-04 ... 1.1409930e-03\n",
      "  1.9421462e-04 1.0730025e-03]]\n",
      "[[0.42146295 0.35853305]\n",
      " [0.35853305 0.57853687]]\n",
      "[[1.]]\n",
      "[[ 0.59586495 -0.17680146 -0.14406414 -0.16044176 -0.16278766]\n",
      " [-0.17680146  0.12112835  0.0981904   0.10872705  0.09830186]\n",
      " [-0.14406414  0.0981904   0.08667994  0.09371167  0.08283475]\n",
      " [-0.16044176  0.10872705  0.09371167  0.10902119  0.09263358]\n",
      " [-0.16278766  0.09830186  0.08283475  0.09263358  0.08730545]]\n",
      "[[0.19129077 0.1685677  0.11775465 0.18039872 0.11698718]\n",
      " [0.1685677  0.3031805  0.13787054 0.2086771  0.1274771 ]\n",
      " [0.11775465 0.13787054 0.13727058 0.14284836 0.08209439]\n",
      " [0.18039872 0.2086771  0.14284836 0.2670145  0.125449  ]\n",
      " [0.11698718 0.1274771  0.08209439 0.125449   0.10124362]]\n",
      "[[ 0.5123877  -0.28102896 -0.07738975]\n",
      " [-0.28102896  0.42407677  0.13619517]\n",
      " [-0.07738975  0.13619517  0.06353549]]\n",
      "[[ 0.26961708 -0.26954228]\n",
      " [-0.26954228  0.7303832 ]]\n"
     ]
    },
    {
     "data": {
      "text/plain": [
       "defaultdict(int, {})"
      ]
     },
     "execution_count": 136,
     "metadata": {},
     "output_type": "execute_result"
    }
   ],
   "source": [
    "get_vector_distances(gold_standard, finetuned_vectors)"
   ]
  },
  {
   "cell_type": "code",
   "execution_count": null,
   "id": "806b4399-21bf-4c99-90b3-bb7d75bd145e",
   "metadata": {},
   "outputs": [],
   "source": []
  }
 ],
 "metadata": {
  "kernelspec": {
   "display_name": "SIGIR_PSS_kernel",
   "language": "python",
   "name": "sigir_pss_kernel"
  },
  "language_info": {
   "codemirror_mode": {
    "name": "ipython",
    "version": 3
   },
   "file_extension": ".py",
   "mimetype": "text/x-python",
   "name": "python",
   "nbconvert_exporter": "python",
   "pygments_lexer": "ipython3",
   "version": "3.10.9"
  }
 },
 "nbformat": 4,
 "nbformat_minor": 5
}
